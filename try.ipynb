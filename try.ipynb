{
 "cells": [
  {
   "cell_type": "code",
   "execution_count": 1,
   "metadata": {},
   "outputs": [
    {
     "name": "stdout",
     "output_type": "stream",
     "text": [
      "{'epochs': 10000, 'batchsize': 100, 'lr': 0.0001, 'lr_decay': 0.0, 'weight_decay': 0.0, 'clip_grad': 1.0, 'optimizer': 'adam', 'folder': './', 'restore_path': None, 'training_name': '${folder}${optimizer}_bs_${batchsize}_lr_${lr}_decay_${lr_decay}_clip_${clip_grad}', 'train_path': '/data/zdcao/crystal_gpt/dataset/mp_20/train.csv', 'valid_path': '/data/zdcao/crystal_gpt/dataset/mp_20/val.csv', 'test_path': '/data/zdcao/crystal_gpt/dataset/mp_20/test.csv', 'Nf': 5, 'Kx': 16, 'Kl': 4, 'h0_size': 256, 'transformer_layers': 16, 'num_heads': 16, 'key_size': 64, 'model_size': 64, 'embed_size': 32, 'dropout_rate': 0.5, 'transformer_name': 'Nf_${Nf}_Kx_${Kx}_Kl_${Kl}_h0_${h0_size}_l_${transformer_layers}_H_${num_heads}_k_${key_size}_m_${model_size}_e_${embed_size}_drop_${dropout_rate}', 'lamb_a': 1.0, 'lamb_w': 1.0, 'lamb_l': 1.0, 'loss_name': 'a_${lamb_a}_w_${lamb_w}_l_${lamb_l}', 'n_max': 21, 'atom_types': 119, 'wyck_types': 28, 'physics_name': 'A_${atom_types}_W_${wyck_types}_N_${n_max}', 'spacegroup': None, 'elements': None, 'top_p': 1.0, 'temperature': 1.0, 'num_io_process': 40, 'num_samples': 1000, 'use_foriloop': True, 'output_filename': 'output.csv'}\n",
      "\n",
      "========== Load checkpoint==========\n",
      "No checkpoint file found. Start from scratch.\n",
      "# of transformer params 461159\n"
     ]
    }
   ],
   "source": [
    "import sys\n",
    "sys.path.append('./crystalformer/src/')\n",
    "\n",
    "import jax\n",
    "import jax.numpy as jnp\n",
    "from jax.flatten_util import ravel_pytree\n",
    "from hydra import initialize, compose\n",
    "\n",
    "\n",
    "import checkpoint\n",
    "from transformer import make_transformer\n",
    "\n",
    "with initialize(version_base=None, config_path=\"./model\"):\n",
    "    args = compose(config_name=\"config\")\n",
    "    print(args)\n",
    "\n",
    "key = jax.random.PRNGKey(42)\n",
    "params, transformer = make_transformer(key, args.Nf, args.Kx, args.Kl, args.n_max,\n",
    "                                        args.h0_size,\n",
    "                                        4, 8,\n",
    "                                        32, args.model_size, args.embed_size,\n",
    "                                        args.atom_types, args.wyck_types,\n",
    "                                        0.3)\n",
    "\n",
    "\n",
    "print(\"\\n========== Load checkpoint==========\")\n",
    "restore_path = \"./share/\"\n",
    "ckpt_filename, epoch_finished = checkpoint.find_ckpt_filename(restore_path)\n",
    "if ckpt_filename is not None:\n",
    "    print(\"Load checkpoint file: %s, epoch finished: %g\" %(ckpt_filename, epoch_finished))\n",
    "    ckpt = checkpoint.load_data(ckpt_filename)\n",
    "    params = ckpt[\"params\"]\n",
    "else:\n",
    "    print(\"No checkpoint file found. Start from scratch.\")\n",
    "\n",
    "print (\"# of transformer params\", ravel_pytree(params)[0].size)\n"
   ]
  },
  {
   "cell_type": "code",
   "execution_count": 69,
   "metadata": {},
   "outputs": [],
   "source": [
    "\n",
    "import numpy as np\n",
    "from pymatgen.core import Structure, Lattice\n",
    "from time import time\n",
    "from pymatgen.io.ase import AseAtomsAdaptor\n",
    "from ase.visualize import view\n",
    "\n",
    "from sample import sample_crystal\n",
    "from elements import element_dict, element_list\n",
    "from scripts.awl2struct import get_struct_from_lawx\n",
    "\n",
    "jax.config.update(\"jax_enable_x64\", True) # to get off compilation warning, and to prevent sample nan lattice\n",
    "\n",
    "\n",
    "def generate_and_visualize(spacegroup, elements, temperature, seed):\n",
    "\n",
    "  print(f\"Generating with spacegroup={spacegroup}, elements={elements}, temperature={temperature}\")\n",
    "  \n",
    "  top_p = 1\n",
    "  n_sample = 1\n",
    "  elements = elements.split()\n",
    "  if elements is not None:\n",
    "      idx = [element_dict[e] for e in elements]\n",
    "      atom_mask = [1] + [1 if a in idx else 0 for a in range(1, args.atom_types)]\n",
    "      atom_mask = jnp.array(atom_mask)\n",
    "      # print ('sampling structure formed by these elements:', elements)\n",
    "    #   print (atom_mask)\n",
    "    #   print(\"@\")\n",
    "  else:\n",
    "      atom_mask = jnp.zeros((args.atom_types), dtype=int) # we will do nothing to a_logit in sampling\n",
    "      print (atom_mask)\n",
    "  \n",
    "  # fix\n",
    "  atom_mask = jnp.repeat(atom_mask.reshape(1, -1), args.n_max, axis=0)\n",
    "  key = jax.random.PRNGKey(seed)\n",
    "  key, subkey = jax.random.split(key)\n",
    "  start_time = time()\n",
    "#   import pdb\n",
    "#   pdb.set_trace()\n",
    "  constraints = jnp.arange(0, args.n_max, 1)\n",
    "  XYZ, A, W, M, L = sample_crystal(subkey, transformer, params, args.n_max, n_sample, args.atom_types, args.wyck_types, args.Kx, args.Kl, spacegroup, None, atom_mask, top_p, temperature, temperature, constraints)\n",
    "  end_time = time()\n",
    "  print(\"executation time:\", end_time - start_time)\n",
    "  \n",
    "  XYZ = np.array(XYZ)\n",
    "  A = np.array(A)\n",
    "  W = np.array(W)\n",
    "  L = np.array(L)\n",
    "  \n",
    "  G = np.array([spacegroup for i in range(len(L))])\n",
    "  \n",
    "  structures = [get_struct_from_lawx(g, l, a, w, xyz) for g, l, a, w, xyz in zip(G, L, A, W, XYZ)]\n",
    "  structures = [Structure.from_dict(_) for _ in structures]\n",
    "  \n",
    "  \n",
    "  atoms_list = [AseAtomsAdaptor().get_atoms(struct) for struct in structures]\n",
    "  # return view(atoms_list[0], viewer='ngl'), atoms_list\n",
    "  # return XYZ, A\n",
    "  return structures"
   ]
  },
  {
   "cell_type": "code",
   "execution_count": 166,
   "metadata": {},
   "outputs": [
    {
     "name": "stdout",
     "output_type": "stream",
     "text": [
      "Generating with spacegroup=5, elements=C, temperature=0.5\n",
      "executation time: 3.3169169425964355\n"
     ]
    }
   ],
   "source": [
    "\n",
    "# ============= params to control the generation =============\n",
    "spacegroup = 5   # 设置生成的晶体的空间群，范围为1-230\n",
    "elements = \"C\"      # 限制生成晶体所包含的元素种类，每个元素需要用空格隔开，比如 \"Ba Ti O\"\n",
    "temperature = 0.5  # 控制transformer生成的温度，温度越高生成的novelty越高，推荐值为 0.5到1.5\n",
    "seed = 42          # 随机种子\n",
    "\n",
    "# =============== generate and visualization =================\n",
    "structures = generate_and_visualize(spacegroup, elements, temperature, seed)"
   ]
  },
  {
   "cell_type": "code",
   "execution_count": 167,
   "metadata": {},
   "outputs": [
    {
     "data": {
      "text/plain": [
       "[Structure Summary\n",
       " Lattice\n",
       "     abc : 0.7166960440906724 1.0625504331994442 0.10037277227267728\n",
       "  angles : 90.0 13.519947334850498 90.0\n",
       "  volume : 0.01786960843091998\n",
       "       A : -0.16755197985498627 0.0 -0.6968353849094442\n",
       "       B : 6.506244934751665e-17 -1.0625504331994442 -6.506244934751665e-17\n",
       "       C : 0.0 0.0 -0.10037277227267728\n",
       "     pbc : True True True\n",
       " PeriodicSite: C (-0.1358, -0.494, -0.6157) [0.8107, 0.4649, 0.5052]\n",
       " PeriodicSite: C (-0.05206, -0.494, -0.2662) [0.3107, 0.4649, 0.4948]]"
      ]
     },
     "execution_count": 167,
     "metadata": {},
     "output_type": "execute_result"
    }
   ],
   "source": [
    "structures"
   ]
  },
  {
   "cell_type": "code",
   "execution_count": 168,
   "metadata": {},
   "outputs": [
    {
     "data": {
      "text/plain": [
       "pymatgen.core.structure.Structure"
      ]
     },
     "execution_count": 168,
     "metadata": {},
     "output_type": "execute_result"
    }
   ],
   "source": [
    "type(structures[0])"
   ]
  },
  {
   "cell_type": "code",
   "execution_count": 169,
   "metadata": {},
   "outputs": [
    {
     "data": {
      "text/plain": [
       "array([[0.81072813, 0.46489343, 0.50520343],\n",
       "       [0.31072813, 0.46489343, 0.49479657]])"
      ]
     },
     "execution_count": 169,
     "metadata": {},
     "output_type": "execute_result"
    }
   ],
   "source": [
    "abc = structures[0].lattice.abc\n",
    "pos = structures[0].frac_coords\n",
    "pos"
   ]
  },
  {
   "cell_type": "code",
   "execution_count": 165,
   "metadata": {},
   "outputs": [
    {
     "data": {
      "image/png": "[encoded data removed]",
      "text/plain": [
       "<Figure size 640x480 with 1 Axes>"
      ]
     },
     "metadata": {},
     "output_type": "display_data"
    }
   ],
   "source": [
    "import matplotlib.pyplot as plt\n",
    "fig = plt.figure()\n",
    "ax = fig.add_subplot(111)\n",
    "x = pos[:,0]*abc[0]\n",
    "y = pos[:,1]*abc[1]\n",
    "# x = np.array([x[2],x[1],x[2],x[0],x[2]+abc[0]])\n",
    "# y = np.array([y[2]+abc[1],y[1],y[2],y[0],y[2]])\n",
    "for i in range(3):\n",
    "    for j in range(3):\n",
    "        ax.scatter(x+i*abc[0],y+j*abc[1])\n",
    "        # ax.plot(x+i*abc[0],y+j*abc[1])\n",
    "        # ax.plot()"
   ]
  },
  {
   "cell_type": "code",
   "execution_count": null,
   "metadata": {},
   "outputs": [],
   "source": []
  }
 ],
 "metadata": {
  "kernelspec": {
   "display_name": "Python 3 (ipykernel)",
   "language": "python",
   "name": "python3"
  },
  "language_info": {
   "codemirror_mode": {
    "name": "ipython",
    "version": 3
   },
   "file_extension": ".py",
   "mimetype": "text/x-python",
   "name": "python",
   "nbconvert_exporter": "python",
   "pygments_lexer": "ipython3",
   "version": "3.10.15"
  }
 },
 "nbformat": 4,
 "nbformat_minor": 4
}
